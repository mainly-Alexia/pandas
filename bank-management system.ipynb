{
 "cells": [
  {
   "cell_type": "code",
   "execution_count": 1,
   "id": "3a58cd0b-2e83-4fca-9ae6-6d71fde6d938",
   "metadata": {},
   "outputs": [],
   "source": [
    "balance={'balance':0.00,'deposit':0.00}"
   ]
  },
  {
   "cell_type": "code",
   "execution_count": 2,
   "id": "0d564abf-2e12-4f21-950e-280b152d46fa",
   "metadata": {},
   "outputs": [],
   "source": [
    "pin={'t_pin':4356,'m_pin':2022}"
   ]
  },
  {
   "cell_type": "code",
   "execution_count": 3,
   "id": "fd6ca002-5f29-4111-aaf0-5939da629873",
   "metadata": {},
   "outputs": [],
   "source": [
    "import pandas as pd\n",
    "import csv as csv\n",
    "info=[\"Name\",\"National_ID\",'Source_of_money',\"Gender\",\"Phone\",\"Location\",\"Card_type\",\"Balance\",\"Account_number\"]\n",
    "with open('bank_managent_systems.csv','w') as file:\n",
    "    myfile=csv.DictWriter(file,delimiter=',',fieldnames=info)\n",
    "    myfile.writeheader()"
   ]
  },
  {
   "cell_type": "code",
   "execution_count": 4,
   "id": "70759060-c7c7-4da8-8c02-12d92a95b528",
   "metadata": {},
   "outputs": [],
   "source": [
    "def creating_account():\n",
    "    name=input(\"type your name:\")\n",
    "    national_ID_NO=input(\"enter your id number:\")\n",
    "    source=input(\"how do you earn your money\")\n",
    "    gender=input(\"gender:\")\n",
    "    Phone=input(\"pHone:\")\n",
    "    location=input(\"indicate your address\")\n",
    "    amount=input(\"estimate the amount you are going to be depositing monthly:\")\n",
    "    card_type=input(\"indicate card 'classic,Gold or platinum':\")\n",
    "    amount=input(\"amount\")\n",
    "    import random\n",
    "    account_number =random.randint(100000000, 2000000000)\n",
    "    information={'Name':name,'National_ID':national_ID_NO,'Source_of_money':source,'Gender':gender,'Phone':Phone,'Location':location,'Card_type':card_type,\"Balance\":amount,'Account_Number':account_number}\n",
    "    with open('bank_managent_systems.csv','a') as file:\n",
    "                filewrite=csv.DictWriter(file,delimiter=',',fieldnames=information)\n",
    "                filewrite.writerow(information)\n",
    "\n",
    "    print(f\"your account has been created successfully and your account number is {account_number} and your pin is {pin} please do not share your pin with anyone\")\n",
    "    "
   ]
  },
  {
   "cell_type": "code",
   "execution_count": 5,
   "id": "aadd1779-e33d-4309-bd4b-f0cd8dabf181",
   "metadata": {},
   "outputs": [],
   "source": [
    "def withdraw():\n",
    "    \n",
    "    data = pd.read_csv(\"bank_managent_systems.csv\")\n",
    "    account_number = int(input(\"Type the account number: \"))\n",
    "    amount = float(input(\"Amount: \"))\n",
    "    account_balance = data.loc[data['Account_number'] == account_number, 'Balance'].values\n",
    "\n",
    "    if len(account_balance) == 0:\n",
    "        print(\"Account number not found!\")\n",
    "    else:\n",
    "        if amount > account_balance[0]:\n",
    "            print(\"Insufficient funds!\")\n",
    "        else:\n",
    "            data.loc[data['Account_number'] == account_number, 'Balance'] -= amount\n",
    "            print(f\"You have withdrawn ${amount} from account {account_number}!\")\n",
    "\n",
    "    data.to_csv(\"bank_managent_systems.csv\", index=False)  # Save changes back to the file\n"
   ]
  },
  {
   "cell_type": "code",
   "execution_count": 12,
   "id": "4403a05a-84c7-4854-b6ad-26cde7a87f6c",
   "metadata": {},
   "outputs": [],
   "source": [
    "def updating():\n",
    "    data=pd.read_csv('bank_managent_systems.csv')\n",
    "    account_number=int(input(\"account number:\"))\n",
    "    column2=input(\"column to change\")\n",
    "    value2=input(\"with what:\")\n",
    "    account_balance = data.loc[data['Account_number'] == account_number, column2]\n",
    "\n",
    "    if account_balance.empty:\n",
    "        print(\"Account number not found!\")\n",
    "    else:  \n",
    "        data.loc[data['Account_number']==account_number,column2]=value2\n",
    "        data.to_csv('bank_managent_systems.csv',index=False)\n",
    "        print('updated')"
   ]
  },
  {
   "cell_type": "code",
   "execution_count": 13,
   "id": "e4cbd543-7472-42ca-9a22-850486aae57e",
   "metadata": {},
   "outputs": [],
   "source": [
    "def deposite():\n",
    "    data = pd.read_csv(\"bank_managent_systems.csv\")\n",
    "    account_number = int(input(\"Type the account number: \"))\n",
    "    amount = float(input(\"Amount: \"))\n",
    "\n",
    "    if amount < 1:\n",
    "        print(\"You can't deposit money less than 1\")\n",
    "        return \n",
    "\n",
    "    account_balance = data.loc[data['Account_number'] == account_number, 'Balance']\n",
    "\n",
    "    if account_balance.empty:\n",
    "        print(\"Account number not found!\")\n",
    "    else:\n",
    "        data.loc[data['Account_number'] == account_number, 'Balance'] += amount\n",
    "        print(f\"You have successfully deposited ${amount} to account: {account_number}\")\n",
    "\n",
    "    data.to_csv(\"bank_managent_systems.csv\", index=False)\n"
   ]
  },
  {
   "cell_type": "code",
   "execution_count": 14,
   "id": "84d597c1-b208-4d5d-812f-47ba8e6f2a3e",
   "metadata": {},
   "outputs": [],
   "source": [
    "def menu():\n",
    "    while True:\n",
    "        print(\"====welcome====\")\n",
    "        print(\"1.creating an account\")\n",
    "        print(\"2.depositing\")\n",
    "        print(\"3.withdrawing\")\n",
    "        print(\"4.updating\")\n",
    "        print(\"00 to exit the program..\")\n",
    "        choice=int(input(\"what do you want to do (1-4)\"))\n",
    "        if choice==1:\n",
    "            creating_account()\n",
    "        elif choice==2:\n",
    "            deposite()\n",
    "        elif  choice==3:\n",
    "            withdraw()\n",
    "        elif choice==4:\n",
    "            updating()\n",
    "        elif  choice==00:\n",
    "            print(\"===exiting===\")\n",
    "            print(\"thank you for choosing our services!!\")\n",
    "            break\n",
    "        else:\n",
    "            print(\"Sorry wrong option choose from 1 to 4\")"
   ]
  },
  {
   "cell_type": "code",
   "execution_count": 16,
   "id": "50f314f0-118f-4ec9-9ee1-81be08a094a8",
   "metadata": {},
   "outputs": [
    {
     "name": "stdout",
     "output_type": "stream",
     "text": [
      "====welcome====\n",
      "1.creating an account\n",
      "2.depositing\n",
      "3.withdrawing\n",
      "4.updating\n",
      "00 to exit the program..\n"
     ]
    },
    {
     "name": "stdin",
     "output_type": "stream",
     "text": [
      "what do you want to do (1-4) 4\n",
      "account number: 879398626\n",
      "column to change Name\n",
      "with what: Gloria Moyo\n"
     ]
    },
    {
     "name": "stdout",
     "output_type": "stream",
     "text": [
      "updated\n",
      "====welcome====\n",
      "1.creating an account\n",
      "2.depositing\n",
      "3.withdrawing\n",
      "4.updating\n",
      "00 to exit the program..\n"
     ]
    },
    {
     "name": "stdin",
     "output_type": "stream",
     "text": [
      "what do you want to do (1-4) 1\n",
      "type your name: Benjamin Banda\n",
      "enter your id number: M9876\n",
      "how do you earn your money Business\n",
      "gender: male\n",
      "pHone: 09955443322\n",
      "indicate your address kasungu\n",
      "estimate the amount you are going to be depositing monthly: 100000\n",
      "indicate card 'classic,Gold or platinum': gold\n",
      "amount 10000\n"
     ]
    },
    {
     "name": "stdout",
     "output_type": "stream",
     "text": [
      "your account has been created successfully and your account number is 295958224 and your pin is {'t_pin': 4356, 'm_pin': 2022} please do not share your pin with anyone\n",
      "====welcome====\n",
      "1.creating an account\n",
      "2.depositing\n",
      "3.withdrawing\n",
      "4.updating\n",
      "00 to exit the program..\n"
     ]
    },
    {
     "name": "stdin",
     "output_type": "stream",
     "text": [
      "what do you want to do (1-4) 1\n",
      "type your name: Jesca Katawa\n",
      "enter your id number: M6655\n",
      "how do you earn your money farming\n",
      "gender: female\n",
      "pHone: 091122334\n",
      "indicate your address kasungu\n",
      "estimate the amount you are going to be depositing monthly: 10000000\n",
      "indicate card 'classic,Gold or platinum': gold\n",
      "amount 10000\n"
     ]
    },
    {
     "name": "stdout",
     "output_type": "stream",
     "text": [
      "your account has been created successfully and your account number is 1414177259 and your pin is {'t_pin': 4356, 'm_pin': 2022} please do not share your pin with anyone\n",
      "====welcome====\n",
      "1.creating an account\n",
      "2.depositing\n",
      "3.withdrawing\n",
      "4.updating\n",
      "00 to exit the program..\n"
     ]
    },
    {
     "name": "stdin",
     "output_type": "stream",
     "text": [
      "what do you want to do (1-4) 1\n",
      "type your name: James Sandy\n",
      "enter your id number: M5544\n",
      "how do you earn your money fishing\n",
      "gender: male\n",
      "pHone: 0882233445\n",
      "indicate your address dowa\n",
      "estimate the amount you are going to be depositing monthly: 100000\n",
      "indicate card 'classic,Gold or platinum': classic\n",
      "amount 10000\n"
     ]
    },
    {
     "name": "stdout",
     "output_type": "stream",
     "text": [
      "your account has been created successfully and your account number is 292268635 and your pin is {'t_pin': 4356, 'm_pin': 2022} please do not share your pin with anyone\n",
      "====welcome====\n",
      "1.creating an account\n",
      "2.depositing\n",
      "3.withdrawing\n",
      "4.updating\n",
      "00 to exit the program..\n"
     ]
    },
    {
     "name": "stdin",
     "output_type": "stream",
     "text": [
      "what do you want to do (1-4) 1\n",
      "type your name: Kelvin Chiliwe\n",
      "enter your id number: M1234\n",
      "how do you earn your money hunting\n",
      "gender: male\n",
      "pHone: 0998877665\n",
      "indicate your address lilongwe\n",
      "estimate the amount you are going to be depositing monthly: 1000000\n",
      "indicate card 'classic,Gold or platinum': gold\n",
      "amount 10000\n"
     ]
    },
    {
     "name": "stdout",
     "output_type": "stream",
     "text": [
      "your account has been created successfully and your account number is 814085840 and your pin is {'t_pin': 4356, 'm_pin': 2022} please do not share your pin with anyone\n",
      "====welcome====\n",
      "1.creating an account\n",
      "2.depositing\n",
      "3.withdrawing\n",
      "4.updating\n",
      "00 to exit the program..\n"
     ]
    },
    {
     "name": "stdin",
     "output_type": "stream",
     "text": [
      "what do you want to do (1-4) 1\n",
      "type your name: Diana Alex\n",
      "enter your id number: M1352\n",
      "how do you earn your money business\n",
      "gender: female\n",
      "pHone: 0987654321\n",
      "indicate your address kasungu\n",
      "estimate the amount you are going to be depositing monthly: 5000000\n",
      "indicate card 'classic,Gold or platinum': gold\n",
      "amount 10000\n"
     ]
    },
    {
     "name": "stdout",
     "output_type": "stream",
     "text": [
      "your account has been created successfully and your account number is 1814389890 and your pin is {'t_pin': 4356, 'm_pin': 2022} please do not share your pin with anyone\n",
      "====welcome====\n",
      "1.creating an account\n",
      "2.depositing\n",
      "3.withdrawing\n",
      "4.updating\n",
      "00 to exit the program..\n"
     ]
    },
    {
     "name": "stdin",
     "output_type": "stream",
     "text": [
      "what do you want to do (1-4) 1\n",
      "type your name: Gloria Moyo\n",
      "enter your id number: M9876\n",
      "how do you earn your money tearching\n",
      "gender: female\n",
      "pHone: 0995551123\n",
      "indicate your address dowa\n",
      "estimate the amount you are going to be depositing monthly: 20000000\n",
      "indicate card 'classic,Gold or platinum': gold\n",
      "amount 10000\n"
     ]
    },
    {
     "name": "stdout",
     "output_type": "stream",
     "text": [
      "your account has been created successfully and your account number is 662397024 and your pin is {'t_pin': 4356, 'm_pin': 2022} please do not share your pin with anyone\n",
      "====welcome====\n",
      "1.creating an account\n",
      "2.depositing\n",
      "3.withdrawing\n",
      "4.updating\n",
      "00 to exit the program..\n"
     ]
    },
    {
     "name": "stdin",
     "output_type": "stream",
     "text": [
      "what do you want to do (1-4) 00\n"
     ]
    },
    {
     "name": "stdout",
     "output_type": "stream",
     "text": [
      "===exiting===\n",
      "thank you for choosing our services!!\n"
     ]
    }
   ],
   "source": [
    "menu()"
   ]
  },
  {
   "cell_type": "code",
   "execution_count": null,
   "id": "31d215cd-7913-49ba-9523-f768c64044a0",
   "metadata": {},
   "outputs": [],
   "source": []
  }
 ],
 "metadata": {
  "kernelspec": {
   "display_name": "Python 3 (ipykernel)",
   "language": "python",
   "name": "python3"
  },
  "language_info": {
   "codemirror_mode": {
    "name": "ipython",
    "version": 3
   },
   "file_extension": ".py",
   "mimetype": "text/x-python",
   "name": "python",
   "nbconvert_exporter": "python",
   "pygments_lexer": "ipython3",
   "version": "3.13.2"
  }
 },
 "nbformat": 4,
 "nbformat_minor": 5
}
